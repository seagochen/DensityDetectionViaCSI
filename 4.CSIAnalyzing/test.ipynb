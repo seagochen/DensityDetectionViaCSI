{
 "cells": [
  {
   "cell_type": "markdown",
   "metadata": {},
   "source": [
    "# Include Librarie(s)"
   ]
  },
  {
   "cell_type": "code",
   "execution_count": 1,
   "metadata": {},
   "outputs": [],
   "source": [
    "import os\n",
    "import pandas as pd\n",
    "import numpy as np\n",
    "import json"
   ]
  },
  {
   "cell_type": "markdown",
   "metadata": {},
   "source": [
    "# Load Data From CSV File\n",
    "\n",
    "The following function will load the data from the CSV file and return a pandas dataframe."
   ]
  },
  {
   "cell_type": "code",
   "execution_count": 2,
   "metadata": {},
   "outputs": [],
   "source": [
    "def load_csi_matrix_from_file(csv_path: str):\n",
    "    \"\"\"\n",
    "    从解析好的csv文件中读取csi矩阵，矩阵通常是一个 3 x 3 x 114 的矩阵\n",
    "    Load csi matrix from the parsed csv file, the matrix is usually a 3 x 3 x 114 matrix\n",
    "\n",
    "    @param csv_path: the path of the csv file\n",
    "\n",
    "    @return: the csi matrix\n",
    "    \"\"\"\n",
    "\n",
    "    # 验证，若csv文件不存在，则返回一个Null值\n",
    "    # if the csv file does not exist, return a Null value\n",
    "    if not os.path.isfile(csv_path):\n",
    "        print(\"The csv file is not valid!\")\n",
    "        return None\n",
    "\n",
    "    # 读取csv矩阵\n",
    "    # read the csv matrix\n",
    "    csi_pd = pd.read_csv(csv_path, sep='\\t', encoding='utf-8')\n",
    "\n",
    "    # 将CSV中的数据帧转换为CSI矩阵，这样得到数据矩阵维度就会变成 n x 3 x 3 x 114 x 2\n",
    "    # Convert the data frame in the CSV to a CSI matrix, so that the dimension of the data matrix will become n x 3 x 3 x 114 x 2\n",
    "    csi_matrix = csi_pd['csi_matrix']\n",
    "    csi_matrix = [csi_matrix_str for csi_matrix_str in csi_matrix]  # 我们是以JSON字符串的形式存储的CSI矩阵\n",
    "    csi_matrix = [np.array(json.loads(csi_matrix_str)) for csi_matrix_str in csi_matrix]  # 将JSON字符串转换为CSI矩阵\n",
    "    # csi_matrix = [csi[:, :, :, 0] + 1j * csi[:, :, :, 1] for csi in csi_matrix]  # 将CSI矩阵转换为复数矩阵\n",
    "\n",
    "    # 将转换后的CSI矩阵，重新赋值给csi_pd\n",
    "    # Assign the converted CSI matrix to csi_pd\n",
    "    csi_pd['csi_matrix'] = csi_matrix\n",
    "\n",
    "    return csi_pd"
   ]
  },
  {
   "cell_type": "markdown",
   "metadata": {},
   "source": [
    "Due to the uncertainty of our collection environment, the collected data contains a certain amount of uncertainty. Since the collection program faithfully records all data, it will also be reflected in the CSV data. So before we process the data further, the data needs to be cleaned."
   ]
  },
  {
   "cell_type": "code",
   "execution_count": 3,
   "metadata": {},
   "outputs": [],
   "source": [
    "def assess_data_cleanliness(csi_pd):\n",
    "    \n",
    "    # 这里，我们要开始检查数据维度的统一性\n",
    "    # Here, we are going to start checking the uniformity of data dimensions\n",
    "    csi_matrix = csi_pd['csi_matrix']\n",
    "\n",
    "    # 首先，我们统计数据中出现的维度，并对其进行排序\n",
    "    # First, we count the dimensions that appear in the data and sort them\n",
    "    dimension_set = set()\n",
    "\n",
    "    for csi in csi_matrix:\n",
    "        dimension_set.add(csi.shape)\n",
    "\n",
    "    dimension_list = list(dimension_set)\n",
    "    dimension_list.sort()\n",
    "\n",
    "    # 然后，我们统计每个维度出现的次数\n",
    "    # Then, we count the number of occurrences of each dimension\n",
    "    dimension_count = [0 for i in range(len(dimension_list))]\n",
    "    \n",
    "    for csi in csi_matrix:\n",
    "        dimension_count[dimension_list.index(csi.shape)] += 1\n",
    "    \n",
    "    total_count = sum(dimension_count)\n",
    "\n",
    "    # 最后，我们输出统计结果\n",
    "    # Finally, we output the statistical results\n",
    "    print(\"The number of different dimensions in the data is: \", len(dimension_list))\n",
    "    print(\"The dimensions that appear in the data are: \", dimension_list)\n",
    "    print(\"The number of occurrences of each dimension is: \", dimension_count)\n",
    "    print(\"The percentage of each dimension is: \", [str(int(count / total_count * 10000) / 100) + \"%\" for count in dimension_count])\n",
    "\n",
    "    return dimension_list, dimension_count"
   ]
  },
  {
   "cell_type": "markdown",
   "metadata": {},
   "source": [
    "Then we need to eliminate all data whose dimension_count is not the maximum value. Of course, we will rewrite this part of the code in the future after we figure out how to fix this part of the data."
   ]
  },
  {
   "cell_type": "code",
   "execution_count": 4,
   "metadata": {},
   "outputs": [],
   "source": [
    "def data_cleaning(csi_pd, dimension_list, dimension_count):\n",
    "\n",
    "    # 找出dimension_count里最大的一项，并找出其对应的dimension_list的索引\n",
    "    # Find the largest item in dimension_count and find the index of its corresponding dimension_list\n",
    "    max_dimension_index = dimension_count.index(max(dimension_count))\n",
    "\n",
    "    # 找出dimension_list里最大的一项，并找出其对应的dimension_count的索引\n",
    "    # Find the largest item in dimension_list and find the index of its corresponding dimension_count\n",
    "    max_dimension = dimension_list[max_dimension_index]\n",
    "\n",
    "    # 保留最大的dimension_list里最大的一项，其余的全部删除\n",
    "    # Keep the largest item in the largest dimension_list, and delete the rest\n",
    "    csi_pd = csi_pd[csi_pd['csi_matrix'].map(lambda csi: csi.shape == max_dimension)]\n",
    "\n",
    "    return csi_pd"
   ]
  },
  {
   "cell_type": "markdown",
   "metadata": {},
   "source": [
    "The following is the test data"
   ]
  },
  {
   "cell_type": "code",
   "execution_count": 5,
   "metadata": {},
   "outputs": [
    {
     "name": "stdout",
     "output_type": "stream",
     "text": [
      "The number of different dimensions in the data is:  2\n",
      "The dimensions that appear in the data are:  [(56, 2, 3, 2), (56, 3, 3, 2)]\n",
      "The number of occurrences of each dimension is:  [2836, 9790]\n",
      "The percentage of each dimension is:  ['22.46%', '77.53%']\n",
      "---------------------------After data cleaning---------------------------\n",
      "The number of different dimensions in the data is:  1\n",
      "The dimensions that appear in the data are:  [(56, 3, 3, 2)]\n",
      "The number of occurrences of each dimension is:  [9790]\n",
      "The percentage of each dimension is:  ['100.0%']\n"
     ]
    }
   ],
   "source": [
    "# 测试用数据\n",
    "# Test data\n",
    "csi_pd = load_csi_matrix_from_file(r\"C:\\Users\\Seagosoft\\Downloads\\202309130935\\csi.csv\")\n",
    "\n",
    "# 检查数据维度的统一性\n",
    "# Check the uniformity of data dimensions\n",
    "dimension_list, dimension_count = assess_data_cleanliness(csi_pd)\n",
    "\n",
    "# 数据清洗\n",
    "# Data cleaning\n",
    "csi_pd = data_cleaning(csi_pd, dimension_list, dimension_count)\n",
    "\n",
    "# 检查数据维度的统一性\n",
    "# Check the uniformity of data dimensions\n",
    "print('---------------------------After data cleaning---------------------------')\n",
    "dimension_list, dimension_count = assess_data_cleanliness(csi_pd)"
   ]
  },
  {
   "cell_type": "markdown",
   "metadata": {},
   "source": [
    "# Data Processing\n",
    "\n",
    "Now we try to extract the phase and amplitude from the signal.\n",
    "\n",
    "## How to calculate the amplittude of a complex array\n",
    "\n",
    "To calculate the amplitude of a one-dimensional array of complex numbers, we first need to understand what the amplitude of a complex number is. for a complex number $z = a + bi$, the amplitude of $|z|$ is defined as:\n",
    "\n",
    "$$|z| =\\sqrt{a^2 + b^2}$$"
   ]
  },
  {
   "cell_type": "code",
   "execution_count": 6,
   "metadata": {},
   "outputs": [],
   "source": [
    "def extract_amplitude(csi_frame):\n",
    "    \"\"\"\n",
    "    从CSI矩阵中提取振幅信息\n",
    "    Extract amplitude information from CSI matrix\n",
    "\n",
    "    @param csi_frame_matrix: CSI matrix\n",
    "\n",
    "    @return: amplitude matrix\n",
    "    \"\"\"\n",
    "\n",
    "    # 计算a^2 + b^2\n",
    "    # Calculate a^2 + b^2\n",
    "    temp = csi_frame[:, :, :, 0] ** 2 + csi_frame[:, :, :, 1] ** 2\n",
    "\n",
    "    # 提取振幅信息 sqrt(a^2 + b^2)\n",
    "    # Extract amplitude information sqrt(a^2 + b^2)\n",
    "    temp = np.sqrt(temp)\n",
    "\n",
    "    return temp"
   ]
  },
  {
   "cell_type": "markdown",
   "metadata": {},
   "source": [
    "## How to calcuate the phase of a complex array\n",
    "\n",
    "The phase of a complex number is defined as:\n",
    "\n",
    "$$\\theta = \\arctan{\\frac{b}{a}}$$\n",
    "\n"
   ]
  },
  {
   "cell_type": "code",
   "execution_count": 7,
   "metadata": {},
   "outputs": [],
   "source": [
    "def extract_phase(csi_frame):\n",
    "    \"\"\"\n",
    "    从CSI矩阵中提取相位信息\n",
    "    Extract phase information from CSI matrix\n",
    "\n",
    "    @param csi_frame_matrix: CSI matrix\n",
    "\n",
    "    @return: phase matrix\n",
    "    \"\"\"\n",
    "\n",
    "    # 计算 b/a 的值\n",
    "    # Calculate the value of b/a\n",
    "    temp = csi_frame[:, :, :, 1] / csi_frame[:, :, :, 0]\n",
    "\n",
    "    # 提取相位信息 arctan(b/a)\n",
    "    # Extract phase information arctan(b/a)\n",
    "    temp = np.arctan(temp)"
   ]
  },
  {
   "cell_type": "markdown",
   "metadata": {},
   "source": []
  }
 ],
 "metadata": {
  "kernelspec": {
   "display_name": "csi",
   "language": "python",
   "name": "python3"
  },
  "language_info": {
   "codemirror_mode": {
    "name": "ipython",
    "version": 3
   },
   "file_extension": ".py",
   "mimetype": "text/x-python",
   "name": "python",
   "nbconvert_exporter": "python",
   "pygments_lexer": "ipython3",
   "version": "3.8.16"
  },
  "orig_nbformat": 4
 },
 "nbformat": 4,
 "nbformat_minor": 2
}
